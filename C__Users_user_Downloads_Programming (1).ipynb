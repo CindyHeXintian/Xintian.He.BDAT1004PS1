{
 "cells": [
  {
   "cell_type": "code",
   "execution_count": 167,
   "id": "f48b409f",
   "metadata": {},
   "outputs": [
    {
     "name": "stdout",
     "output_type": "stream",
     "text": [
      "appyhay\n",
      "enterway\n"
     ]
    }
   ],
   "source": [
    "#Question 6\n",
    "\n",
    "def pig(input_word):\n",
    "    \"\"\"Return the piggified Latin form of input_word\n",
    "    :param input_word: input word\n",
    "    :return: input_word_in_pig_latin_form\n",
    "    \"\"\"\n",
    "    word = input_word.lower()\n",
    "    if word[0] in 'aeiou':\n",
    "        return word + 'way'\n",
    "    else:\n",
    "        return word[1:] + word[0] + 'ay'\n",
    "\n",
    "    \n",
    "print(pig(\"Happy\"))\n",
    "print(pig(\"Enter\"))"
   ]
  },
  {
   "cell_type": "code",
   "execution_count": 160,
   "id": "9e3e9471",
   "metadata": {},
   "outputs": [
    {
     "name": "stdout",
     "output_type": "stream",
     "text": [
      "There are 15 patients of blood type A.\n",
      "There are 1 patients of blood type B.\n",
      "There are 13 patients of blood type AB.\n",
      "There are 15 patients of blood type O.\n",
      "There are 0 patients of blood type OO.\n"
     ]
    }
   ],
   "source": [
    "#Question 8\n",
    "def bldcount(x):\n",
    "    file = open(x,'r')\n",
    "    text = file.read()\n",
    "    count_A = 0\n",
    "    count_B = 0\n",
    "    count_AB = 0\n",
    "    count_O = 0\n",
    "    count_OO = 0\n",
    "    \n",
    "    for char in text.split():\n",
    "        if (char == 'A'):\n",
    "            count_A += 1\n",
    "        elif (char == 'B'):\n",
    "            count_B += 1\n",
    "        elif (char == 'AB'):\n",
    "            count_AB += 1\n",
    "        elif (char == 'O'):\n",
    "            count_O += 1\n",
    "        elif (char == 'OO'):\n",
    "            count_OO += 1\n",
    "            \n",
    "    print(f\"There are {count_A} patients of blood type A.\")\n",
    "    print(f\"There are {count_B} patients of blood type B.\")\n",
    "    print(f\"There are {count_AB} patients of blood type AB.\")\n",
    "    print(f\"There are {count_O} patients of blood type O.\")\n",
    "    print(f\"There are {count_OO} patients of blood type OO.\")\n",
    "\n",
    "bldcount('Downloads/Programming/bloodtype1.txt')"
   ]
  },
  {
   "cell_type": "code",
   "execution_count": 166,
   "id": "f2052838",
   "metadata": {},
   "outputs": [
    {
     "data": {
      "text/plain": [
       "103.45157"
      ]
     },
     "execution_count": 166,
     "metadata": {},
     "output_type": "execute_result"
    }
   ],
   "source": [
    "#Question 9\n",
    "def curconv(currency, amount):\n",
    "    file=open('Downloads/Programming/currencies.txt','r')\n",
    "    for line in file.readlines():\n",
    "        lst = line.split()\n",
    "        if lst[0] == currency:\n",
    "            return float(lst[1]) * amount\n",
    "        \n",
    "        \n",
    "curconv('AUD', 100)\n"
   ]
  },
  {
   "cell_type": "code",
   "execution_count": 152,
   "id": "4f4dce7d",
   "metadata": {},
   "outputs": [
    {
     "data": {
      "text/plain": [
       "[1, 1, 1, 3, 5, 1, 1, 2, 1, 0, 1, 0, 1, 2, 4, 0, 1, 2, 0, 2, 1, 0, 1, 1, 0, 0]"
      ]
     },
     "execution_count": 152,
     "metadata": {},
     "output_type": "execute_result"
    }
   ],
   "source": [
    "#Question 10\n",
    "def frequencies(s):\n",
    "    freqs = [0] * 26\n",
    "    order = 'abcdefghijklmnopqrstuvwxyz'\n",
    "    for char in s:\n",
    "        if char >= 'a' and char <= 'z':\n",
    "            index = order.index(char)\n",
    "            freqs[index] += 1\n",
    "    return freqs\n",
    "            \n",
    "\n",
    "frequencies('The quick red fox got bored and went home.')"
   ]
  },
  {
   "cell_type": "code",
   "execution_count": null,
   "id": "211c40b8",
   "metadata": {},
   "outputs": [],
   "source": []
  }
 ],
 "metadata": {
  "kernelspec": {
   "display_name": "Python 3",
   "language": "python",
   "name": "python3"
  },
  "language_info": {
   "codemirror_mode": {
    "name": "ipython",
    "version": 3
   },
   "file_extension": ".py",
   "mimetype": "text/x-python",
   "name": "python",
   "nbconvert_exporter": "python",
   "pygments_lexer": "ipython3",
   "version": "3.8.8"
  }
 },
 "nbformat": 4,
 "nbformat_minor": 5
}
