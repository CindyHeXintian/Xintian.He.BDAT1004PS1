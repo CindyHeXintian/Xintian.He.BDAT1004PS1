{
 "cells": [
  {
   "cell_type": "markdown",
   "id": "2c0e5daf",
   "metadata": {},
   "source": [
    "Question 1 C#\n",
    "What data type is each of the following?\n",
    "\n",
    "Object|Data Type\n",
    "-----|-----\n",
    "5|System.Int32\n",
    "5.0|System.Double\n",
    "5 > 1|System.Boolean\n",
    "'5'|System.Char\n",
    "5 * 2|System.Int32\n",
    "'5' * 2|System.Int32\n",
    "'5' + '2'|System.Int32\n",
    "5 / 2|System.Int32\n",
    "5 % 2|System.Int32\n",
    "{5, 2, 1}|System.Int32[]\n",
    "5 == 3|System.Boolean\n",
    "Pi (the number)|System.Double"
   ]
  },
  {
   "cell_type": "code",
   "execution_count": null,
   "id": "84a48067",
   "metadata": {},
   "outputs": [],
   "source": []
  }
 ],
 "metadata": {
  "kernelspec": {
   "display_name": "Python 3",
   "language": "python",
   "name": "python3"
  },
  "language_info": {
   "codemirror_mode": {
    "name": "ipython",
    "version": 3
   },
   "file_extension": ".py",
   "mimetype": "text/x-python",
   "name": "python",
   "nbconvert_exporter": "python",
   "pygments_lexer": "ipython3",
   "version": "3.8.8"
  }
 },
 "nbformat": 4,
 "nbformat_minor": 5
}
